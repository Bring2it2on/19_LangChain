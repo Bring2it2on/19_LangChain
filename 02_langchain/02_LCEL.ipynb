{
 "cells": [
  {
   "attachments": {},
   "cell_type": "markdown",
   "metadata": {},
   "source": [
    "## LCEL (LangChain Expression Language)\n",
    "* 사용자의 입력 -> 프롬프트 템플릿 -> LLM 모델 전달\n",
    "* 각 단계를 차례로 엮어서 하나의 파이프라인으로 만들어주는 것\n",
    "\n",
    "chain = prompt | model | output_parser\n"
   ]
  },
  {
   "attachments": {},
   "cell_type": "markdown",
   "metadata": {},
   "source": [
    "### 프롬프트 템플릿\n",
    "* 사용자의 입력 변수를 받아서 완전한 프롬프트 문자열을 만드는데 사용하는 템플릿"
   ]
  },
  {
   "cell_type": "code",
   "execution_count": 2,
   "metadata": {},
   "outputs": [],
   "source": [
    "from langchain_core.prompts import PromptTemplate\n",
    "\n",
    "template = \"{lecture}에 대해 설명해주세요\"\n",
    "\n",
    "prompt_template = PromptTemplate(template=template, input_variables=[\"lecture\"])"
   ]
  },
  {
   "cell_type": "code",
   "execution_count": 3,
   "metadata": {},
   "outputs": [
    {
     "name": "stdout",
     "output_type": "stream",
     "text": [
      "스프링에 대해 설명해주세요\n"
     ]
    }
   ],
   "source": [
    "lecture = input(\"궁금한 과목을 입력하세요 : \")\n",
    "\n",
    "prompt = prompt_template.format(lecture=lecture)\n",
    "\n",
    "print(prompt)"
   ]
  },
  {
   "cell_type": "code",
   "execution_count": 4,
   "metadata": {},
   "outputs": [],
   "source": [
    "from langchain_openai import ChatOpenAI\n",
    "\n",
    "model = ChatOpenAI(\n",
    "    model=\"gpt-3.5-turbo\",\n",
    "    temperature=0.1\n",
    ")"
   ]
  },
  {
   "cell_type": "code",
   "execution_count": 7,
   "metadata": {},
   "outputs": [],
   "source": [
    "chain = prompt_template | model"
   ]
  },
  {
   "cell_type": "code",
   "execution_count": 5,
   "metadata": {},
   "outputs": [],
   "source": [
    "# Prompt Template의 변수에 작성할때는 Dictionary 형태로 Key-Value쌍으로 입력을 줄 수 있다.\n",
    "input = {\"lecture\":\"랭체인\"}"
   ]
  },
  {
   "cell_type": "code",
   "execution_count": 8,
   "metadata": {},
   "outputs": [
    {
     "data": {
      "text/plain": [
       "AIMessage(content='랭체인은 블록체인 기술을 기반으로 한 분산형 랭킹 플랫폼입니다. 이는 사용자들이 다양한 콘텐츠나 제품에 대한 평가와 평판을 기록하고 공유할 수 있는 시스템을 제공합니다. 랭체인은 중앙 집중식 시스템이 아닌 분산된 네트워크를 통해 데이터를 저장하고 관리하기 때문에 안전하고 투명한 환경을 제공합니다.\\n\\n랭체인은 블록체인 기술을 활용하여 데이터의 위변조를 방지하고 사용자들 간의 신뢰를 증대시킵니다. 또한 사용자들이 참여하고 활동하는 만큼 보상을 받을 수 있는 시스템을 구축하여 더 많은 사람들이 활발하게 참여할 수 있도록 독려합니다.\\n\\n랭체인은 다양한 분야에서 활용될 수 있으며, 온라인 리뷰, 소셜 미디어, 온라인 쇼핑 등 다양한 분야에서 사용자들의 평가와 평판을 기록하고 활용할 수 있습니다. 이를 통해 소비자들은 더 신뢰할 만한 정보를 얻을 수 있고, 기업들은 더 효과적인 마케팅 전략을 수립할 수 있습니다.', additional_kwargs={'refusal': None}, response_metadata={'token_usage': {'completion_tokens': 433, 'prompt_tokens': 18, 'total_tokens': 451, 'completion_tokens_details': {'audio_tokens': None, 'reasoning_tokens': 0}, 'prompt_tokens_details': {'audio_tokens': None, 'cached_tokens': 0}}, 'model_name': 'gpt-3.5-turbo-0125', 'system_fingerprint': None, 'finish_reason': 'stop', 'logprobs': None}, id='run-635763e7-6965-415f-a784-204a9e2734ae-0', usage_metadata={'input_tokens': 18, 'output_tokens': 433, 'total_tokens': 451, 'input_token_details': {'cache_read': 0}, 'output_token_details': {'reasoning': 0}})"
      ]
     },
     "execution_count": 8,
     "metadata": {},
     "output_type": "execute_result"
    }
   ],
   "source": [
    "chain.invoke(input)"
   ]
  },
  {
   "attachments": {},
   "cell_type": "markdown",
   "metadata": {},
   "source": [
    "## 출력 형식 지정 (Output Parser)\n",
    "- LLM 모델이 응답해주는 내용에 대한 형식을 지정해주는 것"
   ]
  },
  {
   "cell_type": "code",
   "execution_count": 9,
   "metadata": {},
   "outputs": [],
   "source": [
    "from langchain_core.output_parsers import StrOutputParser\n",
    "\n",
    "output_parser = StrOutputParser()"
   ]
  },
  {
   "cell_type": "code",
   "execution_count": 10,
   "metadata": {},
   "outputs": [],
   "source": [
    "chain = prompt_template | model | output_parser"
   ]
  },
  {
   "cell_type": "code",
   "execution_count": 12,
   "metadata": {},
   "outputs": [
    {
     "name": "stdout",
     "output_type": "stream",
     "text": [
      "랭체인은 블록체인 기술을 활용하여 게임 산업에 적용된 분산형 게임 개발 플랫폼입니다. 랭체인은 게임 개발자들이 게임을 개발하고 운영하는 데 필요한 다양한 기능을 제공하며, 게임 사용자들은 게임을 즐기는 동안 보상을 받을 수 있습니다.\n",
      "\n",
      "랭체인은 블록체인 기술을 통해 게임 데이터의 안전한 저장과 관리를 보장하며, 게임 사용자들은 블록체인을 통해 게임 아이템을 소유하고 거래할 수 있습니다. 또한, 랭체인은 게임 개발자들이 게임을 개발하고 유지보수하는 데 필요한 자금을 모금할 수 있는 기회를 제공합니다.\n",
      "\n",
      "랭체인은 게임 산업의 혁신적인 모델로 주목받고 있으며, 게임 사용자들과 게임 개발자들 간의 상호작용을 촉진하고 게임 산업의 발전을 이끌어나갈 것으로 기대됩니다.\n"
     ]
    }
   ],
   "source": [
    "print(chain.invoke(input))"
   ]
  },
  {
   "cell_type": "code",
   "execution_count": 16,
   "metadata": {},
   "outputs": [],
   "source": [
    "### 영어 회화를 알려주는 선생님 챗봇\n",
    "### 어떤 상황을 주면 영어 회화 + 한글 해석\n",
    "\n",
    "template = \"\"\"\n",
    "당신은 영어를 가르치는 10년차 선생님입니다. 주어진 상황에 맞는 영어 회화를 작성해주세요\n",
    "양식은 [FORMAT]을 참고하여 작성해주세요\n",
    "\n",
    "# 상황:\n",
    "{question}\n",
    "\n",
    "# FORMAT:\n",
    "- 영어 회화:\n",
    "- 한글 해석:\n",
    "\"\"\"\n",
    "\n",
    "# 프롬프트 템플릿 작성\n",
    "prompt = PromptTemplate.from_template(template)\n",
    "\n",
    "# 모델 객체 작성\n",
    "model = ChatOpenAI(model=\"gpt-4o\")\n",
    "\n",
    "# 문자열 출력 파서 객체 생성\n",
    "output_parser = StrOutputParser()"
   ]
  },
  {
   "cell_type": "code",
   "execution_count": 19,
   "metadata": {},
   "outputs": [],
   "source": [
    "# 체인 구성\n",
    "\n",
    "chain = prompt | model | output_parser"
   ]
  },
  {
   "cell_type": "code",
   "execution_count": 20,
   "metadata": {},
   "outputs": [
    {
     "name": "stdout",
     "output_type": "stream",
     "text": [
      "- 영어 회화:\n",
      "  - Server: Hello! Welcome to our restaurant. How many people are in your party?\n",
      "  - You: Hi! It's just me today.\n",
      "  - Server: Great! Would you like to sit by the window or in the main dining area?\n",
      "  - You: By the window would be lovely, thank you.\n",
      "  - Server: Here is our menu. Can I get you something to drink while you decide?\n",
      "  - You: Yes, I'll have a glass of water, please.\n",
      "  - Server: Certainly. Do you need any recommendations from the menu?\n",
      "  - You: Yes, please. What's your most popular dish?\n",
      "  - Server: Our grilled salmon is highly recommended. Would you like to try it?\n",
      "  - You: That sounds delicious. I'll have the grilled salmon, please.\n",
      "  - Server: Excellent choice. Would you like any sides with that?\n",
      "  - You: Yes, I'd like a side of steamed vegetables.\n",
      "  - Server: Perfect, I'll place your order right away. Enjoy your meal!\n",
      "\n",
      "- 한글 해석:\n",
      "  - 서버: 안녕하세요! 저희 식당에 오신 것을 환영합니다. 몇 분이세요?\n",
      "  - 당신: 안녕하세요! 오늘은 저 혼자예요.\n",
      "  - 서버: 좋습니다! 창가 쪽에 앉으시겠어요, 아니면 메인 다이닝 구역에 앉으시겠어요?\n",
      "  - 당신: 창가 쪽이면 좋겠어요, 감사합니다.\n",
      "  - 서버: 여기 메뉴입니다. 결정하시는 동안 음료를 드릴까요?\n",
      "  - 당신: 네, 물 한 잔 주세요.\n",
      "  - 서버: 물론입니다. 메뉴에 대해 추천해드릴까요?\n",
      "  - 당신: 네, 부탁드려요. 가장 인기 있는 요리가 뭐예요?\n",
      "  - 서버: 저희의 그릴드 연어가 아주 추천드릴 만해요. 드셔보시겠어요?\n",
      "  - 당신: 맛있겠네요. 그릴드 연어로 할게요.\n",
      "  - 서버: 훌륭한 선택이십니다. 곁들일 요리가 필요하신가요?\n",
      "  - 당신: 네, 찐 야채를 곁들여 주세요.\n",
      "  - 서버: 알겠습니다, 바로 주문 넣어드릴게요. 식사 맛있게 하세요!\n"
     ]
    }
   ],
   "source": [
    "# Chain 실행\n",
    "\n",
    "print(chain.invoke({\"question\": \"저는 식당에 가서 음식을 주문하고 싶어요.\"}))"
   ]
  },
  {
   "cell_type": "code",
   "execution_count": 22,
   "metadata": {},
   "outputs": [],
   "source": [
    "\"\"\"\n",
    "여러가지 재료 변수를 입력 받고, 재료로 요리할 수 있는\n",
    "요리의 요리명, 재료, 조리법을 포맷으로 받는 템플릿을 작성하고\n",
    "문자열 출력 파서로 응답을 받을 수 있게 체인을 구성하세요.\n",
    "\"\"\"\n",
    "\n",
    "template = \"\"\"\n",
    "주어진 재료를 바탕으로 요리 레시피를 작성해줘. 필요하다면 주어진 재료 외에도 사용해도 좋아.\n",
    "양식은 [FORMAT]을 참고하여 작성해주세요\n",
    "\n",
    "# 재료: {ingredient}\n",
    "\n",
    "# FORMAT:\n",
    "- 요리명:\n",
    "- 재료:\n",
    "- 조리법\n",
    "\"\"\"\n",
    "\n",
    "# 프롬프트 템플릿 작성\n",
    "prompt = PromptTemplate.from_template(template)\n",
    "\n",
    "# 모델 객체 작성\n",
    "model = ChatOpenAI(model=\"gpt-4o\")\n",
    "\n",
    "# 문자열 출력 파서 객체 생성\n",
    "output_parser = StrOutputParser()"
   ]
  },
  {
   "cell_type": "code",
   "execution_count": 23,
   "metadata": {},
   "outputs": [],
   "source": [
    "# 체인 구성\n",
    "\n",
    "chain = prompt | model | output_parser"
   ]
  },
  {
   "cell_type": "code",
   "execution_count": 27,
   "metadata": {},
   "outputs": [
    {
     "name": "stdout",
     "output_type": "stream",
     "text": [
      "- 요리명: 두부 김치 볶음\n",
      "\n",
      "- 재료:\n",
      "  - 두부 300g\n",
      "  - 간장 2큰술\n",
      "  - 김치 200g\n",
      "  - 돼지고기 150g\n",
      "  - 다진 마늘 1큰술\n",
      "  - 대파 1대\n",
      "  - 참기름 1큰술\n",
      "  - 식용유 2큰술\n",
      "  - 설탕 1큰술 (선택 사항)\n",
      "  - 고춧가루 1큰술 (선택 사항)\n",
      "\n",
      "- 조리법:\n",
      "  1. 두부는 물기를 제거한 후 2cm 크기로 깍둑 썰기합니다. 돼지고기도 비슷한 크기로 자릅니다.\n",
      "  2. 대파는 송송 썰고, 김치는 먹기 좋은 크기로 자릅니다.\n",
      "  3. 중간 불로 달군 팬에 식용유 1큰술을 두르고 두부를 넣어 노릇하게 구워줍니다. 구운 두부는 따로 접시에 덜어둡니다.\n",
      "  4. 같은 팬에 식용유 1큰술을 더하고 다진 마늘과 대파를 넣어 향이 올라올 때까지 볶습니다.\n",
      "  5. 돼지고기를 넣고 겉면이 익을 때까지 볶아줍니다.\n",
      "  6. 김치를 넣고 함께 볶아 김치가 부드러워질 때까지 익힙니다.\n",
      "  7. 간장과 설탕, 고춧가루를 넣고 잘 섞어줍니다.\n",
      "  8. 구워둔 두부를 넣고 모든 재료가 잘 어우러지도록 볶습니다.\n",
      "  9. 마지막으로 참기름을 두르고 불을 끈 후 잘 섞어줍니다.\n",
      "  10. 접시에 담아 완성된 두부 김치 볶음을 따뜻할 때 서빙합니다.\n",
      "\n",
      "이 요리는 밥과 함께 먹으면 더욱 맛있습니다!\n"
     ]
    }
   ],
   "source": [
    "print(chain.invoke({\"ingredient\" : \"두부, 간장, 김치, 돼지고기\"}))"
   ]
  }
 ],
 "metadata": {
  "kernelspec": {
   "display_name": "langchain_env",
   "language": "python",
   "name": "python3"
  },
  "language_info": {
   "codemirror_mode": {
    "name": "ipython",
    "version": 3
   },
   "file_extension": ".py",
   "mimetype": "text/x-python",
   "name": "python",
   "nbconvert_exporter": "python",
   "pygments_lexer": "ipython3",
   "version": "3.11.10"
  },
  "orig_nbformat": 4
 },
 "nbformat": 4,
 "nbformat_minor": 2
}
