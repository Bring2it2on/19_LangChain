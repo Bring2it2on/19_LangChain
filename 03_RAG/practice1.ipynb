{
 "cells": [
  {
   "cell_type": "markdown",
   "metadata": {},
   "source": [
    "## SPRi AI Brief_10월호_산업동향_F 을 분석해보자!"
   ]
  },
  {
   "cell_type": "markdown",
   "metadata": {},
   "source": [
    "### 1. 문서 로드 (Load Documents)"
   ]
  },
  {
   "cell_type": "code",
   "execution_count": 1,
   "metadata": {},
   "outputs": [
    {
     "data": {
      "text/plain": [
       "True"
      ]
     },
     "execution_count": 1,
     "metadata": {},
     "output_type": "execute_result"
    }
   ],
   "source": [
    "from dotenv import load_dotenv\n",
    "\n",
    "load_dotenv()"
   ]
  },
  {
   "cell_type": "code",
   "execution_count": 2,
   "metadata": {},
   "outputs": [
    {
     "name": "stdout",
     "output_type": "stream",
     "text": [
      "문서의 페이지수 : 25\n"
     ]
    }
   ],
   "source": [
    "from langchain_community.document_loaders import PyMuPDFLoader\n",
    "\n",
    "# PyMuPDFLoader 객체 정의\n",
    "loader = PyMuPDFLoader(\"data/SPRi AI Brief_10월호_산업동향_F.pdf\")\n",
    "\n",
    "# 문서 로드\n",
    "docs = loader.load()\n",
    "\n",
    "print(f\"문서의 페이지수 : {len(docs)}\")"
   ]
  },
  {
   "cell_type": "markdown",
   "metadata": {},
   "source": [
    "## 2. 문서 분할(Split Documents)"
   ]
  },
  {
   "cell_type": "code",
   "execution_count": 23,
   "metadata": {},
   "outputs": [
    {
     "name": "stdout",
     "output_type": "stream",
     "text": [
      "분할된 청크의 수 : 47\n"
     ]
    }
   ],
   "source": [
    "from langchain_text_splitters import RecursiveCharacterTextSplitter\n",
    "\n",
    "text_splitter = RecursiveCharacterTextSplitter(chunk_size=1000, chunk_overlap=100)\n",
    "\n",
    "split_documents = text_splitter.split_documents(docs)\n",
    "\n",
    "print(f\"분할된 청크의 수 : {len(split_documents)}\")"
   ]
  },
  {
   "cell_type": "markdown",
   "metadata": {},
   "source": [
    "## 3. 임베딩(Embedding 생성)"
   ]
  },
  {
   "cell_type": "code",
   "execution_count": 4,
   "metadata": {},
   "outputs": [],
   "source": [
    "from langchain_openai import OpenAIEmbeddings\n",
    "\n",
    "embeddings = OpenAIEmbeddings()"
   ]
  },
  {
   "cell_type": "markdown",
   "metadata": {},
   "source": [
    "## 4. DB 생성(벡터스토어 생성) 및 저장\n",
    "- FAISS(Facebook AI Similarity Search)\n",
    "    - 페이스북에서 개발한 유사도 검색 및 클러스터링 라이브러리\n",
    "    - 벡터 데이터셋에서 빠른 유사도 검색"
   ]
  },
  {
   "cell_type": "code",
   "execution_count": 24,
   "metadata": {},
   "outputs": [],
   "source": [
    "from langchain_community.vectorstores import FAISS\n",
    "\n",
    "vectorstore = FAISS.from_documents(documents=split_documents, embedding=embeddings)"
   ]
  },
  {
   "cell_type": "code",
   "execution_count": 6,
   "metadata": {},
   "outputs": [
    {
     "name": "stdout",
     "output_type": "stream",
     "text": [
      "3. 기술/연구\n",
      "   ▹ 영국 옥스퍼드⼤ 연구 결과, 글로벌 AI 칩 분포의 양극화 현상 심각······························ 12\n",
      "n 옥스퍼드⼤ 연구진에 따르면 AI 개발에 필수적인 GPU 클러스터는 미국과 중국을 중심으로 \n",
      "전 세계 30개국에 집중되어 있으며, 대부분 지역에는 GPU 클러스터가 부재\n",
      "n 영국 옥스퍼드⼤ 연구진이 2024년 8월 22일 공개한 연구 결과에 따르면 AI 개발에 필수적인 \n",
      "GPU와 같은 AI 칩은 전 세계 30개국에 고도로 집중\n",
      "∙2024년 8월 8일~ 8월 10일 1,098명의 미국 성인을 대상으로 실시된 온라인 설문조사 결과, 미국 \n",
      "근로자의 41%는 일자리 시장이 나쁘다고 인식\n"
     ]
    }
   ],
   "source": [
    "for doc in vectorstore.similarity_search(\"옥스퍼드\"):\n",
    "    print(doc.page_content)"
   ]
  },
  {
   "cell_type": "markdown",
   "metadata": {},
   "source": [
    "## 5. 검색기(Retriever) 생성"
   ]
  },
  {
   "cell_type": "code",
   "execution_count": 25,
   "metadata": {},
   "outputs": [],
   "source": [
    "# 벡터스토어에 있는 정보를 검색하고 생성\n",
    "retriver = vectorstore.as_retriever()"
   ]
  },
  {
   "cell_type": "code",
   "execution_count": 8,
   "metadata": {},
   "outputs": [
    {
     "data": {
      "text/plain": [
       "[Document(metadata={'source': 'data/SPRi AI Brief_10월호_산업동향_F.pdf', 'file_path': 'data/SPRi AI Brief_10월호_산업동향_F.pdf', 'page': 8, 'total_pages': 25, 'format': 'PDF 1.4', 'title': '', 'author': 'dj', 'subject': '', 'keywords': '', 'creator': 'Hwp 2018 10.0.0.13947', 'producer': 'Hancom PDF 1.3.0.547', 'creationDate': \"D:20241007090546+09'00'\", 'modDate': \"D:20241007090546+09'00'\", 'trapped': ''}, page_content='추론 역량을 개선해 물리학, 화학, 생물학의 복잡한 벤치마크 과제에서 박사과정 학생과 비슷한 \\n성과를 나타냈으며, 수학과 코딩에서도 탁월한 성과를 기록'),\n",
       " Document(metadata={'source': 'data/SPRi AI Brief_10월호_산업동향_F.pdf', 'file_path': 'data/SPRi AI Brief_10월호_산업동향_F.pdf', 'page': 1, 'total_pages': 25, 'format': 'PDF 1.4', 'title': '', 'author': 'dj', 'subject': '', 'keywords': '', 'creator': 'Hwp 2018 10.0.0.13947', 'producer': 'Hancom PDF 1.3.0.547', 'creationDate': \"D:20241007090546+09'00'\", 'modDate': \"D:20241007090546+09'00'\", 'trapped': ''}, page_content='3. 기술/연구\\n   ▹ 영국 옥스퍼드⼤ 연구 결과, 글로벌 AI 칩 분포의 양극화 현상 심각······························ 12'),\n",
       " Document(metadata={'source': 'data/SPRi AI Brief_10월호_산업동향_F.pdf', 'file_path': 'data/SPRi AI Brief_10월호_산업동향_F.pdf', 'page': 18, 'total_pages': 25, 'format': 'PDF 1.4', 'title': '', 'author': 'dj', 'subject': '', 'keywords': '', 'creator': 'Hwp 2018 10.0.0.13947', 'producer': 'Hancom PDF 1.3.0.547', 'creationDate': \"D:20241007090546+09'00'\", 'modDate': \"D:20241007090546+09'00'\", 'trapped': ''}, page_content='UC샌디에고의 학생과 교수진이 주축이 되어 2023년 5월 챗봇 아레나를 출시'),\n",
       " Document(metadata={'source': 'data/SPRi AI Brief_10월호_산업동향_F.pdf', 'file_path': 'data/SPRi AI Brief_10월호_산업동향_F.pdf', 'page': 19, 'total_pages': 25, 'format': 'PDF 1.4', 'title': '', 'author': 'dj', 'subject': '', 'keywords': '', 'creator': 'Hwp 2018 10.0.0.13947', 'producer': 'Hancom PDF 1.3.0.547', 'creationDate': \"D:20241007090546+09'00'\", 'modDate': \"D:20241007090546+09'00'\", 'trapped': ''}, page_content='지원해 학교에서 안정적으로 사용할 수 있는 고품질의 맞춤형 교육 콘텐츠 생성을 추진')]"
      ]
     },
     "execution_count": 8,
     "metadata": {},
     "output_type": "execute_result"
    }
   ],
   "source": [
    "retriver.invoke(\"옥스퍼드 대학교에서 어떤 연구를 진행했어?\")"
   ]
  },
  {
   "cell_type": "markdown",
   "metadata": {},
   "source": [
    "## 6. 프롬프트 생성"
   ]
  },
  {
   "cell_type": "markdown",
   "metadata": {},
   "source": [
    "- 당신은 질문 답변 직업을 위한 어시스턴트입니다.\n",
    "- 주어진 문맥을 사용하여 질문에 답변하세요.\n",
    "- 답에 대한 근거를 어디서 찾아왔는지 #Source란에 적어줘.\n",
    "- 가급적이면 이해하기 쉽게 요약해서 알려줘.\n",
    "- 답을 모르는 경우에는 모른다고 말씀하세요.\n",
    "- 한국어로 답변하세요."
   ]
  },
  {
   "cell_type": "code",
   "execution_count": 26,
   "metadata": {},
   "outputs": [],
   "source": [
    "from langchain_core.prompts import PromptTemplate\n",
    "\n",
    "prompt = PromptTemplate.from_template(\n",
    "    \"\"\"You are an assistant for question-answering tasks. \n",
    "Use the following pieces of retrieved context to answer the question.\n",
    "note the source of the answer(where you got the information from) on #Source\n",
    "if possible, inform me in summary that I can easily understand.\n",
    "If you don't know the answer, just say that you don't know. \n",
    "Answer in Korean.\n",
    "\n",
    "#Context: \n",
    "{context}\n",
    "\n",
    "#Question:\n",
    "{question}\n",
    "\n",
    "#Answer:\n",
    "\n",
    "#Source: \n",
    "\"\"\"\n",
    ")"
   ]
  },
  {
   "cell_type": "markdown",
   "metadata": {},
   "source": [
    "## 7. LLM 모델 생성"
   ]
  },
  {
   "cell_type": "code",
   "execution_count": 10,
   "metadata": {},
   "outputs": [],
   "source": [
    "from langchain_openai import ChatOpenAI\n",
    "llm = ChatOpenAI(model=\"gpt-4o\", temperature=0)"
   ]
  },
  {
   "cell_type": "markdown",
   "metadata": {},
   "source": [
    "## 8. Chain 생성"
   ]
  },
  {
   "cell_type": "code",
   "execution_count": 27,
   "metadata": {},
   "outputs": [],
   "source": [
    "from langchain_core.runnables import RunnablePassthrough\n",
    "from langchain_core.output_parsers import StrOutputParser\n",
    "\n",
    "chain = (\n",
    "    {\"context\" : retriver, \"question\": RunnablePassthrough()}\n",
    "    | prompt\n",
    "    | llm\n",
    "    | StrOutputParser()\n",
    ")"
   ]
  },
  {
   "cell_type": "code",
   "execution_count": 13,
   "metadata": {},
   "outputs": [
    {
     "name": "stdout",
     "output_type": "stream",
     "text": [
      "주어진 자료의 내용을 주제별로 요약하면 다음과 같습니다:\n",
      "\n",
      "1. **데이터 주석 작업**: 대규모 데이터셋에 주석을 다는 작업은 시간과 비용이 많이 소요됩니다. (#Source: Page 15)\n",
      "\n",
      "2. **공공 데이터 활용**: 창의적 수업을 지원하는 프로젝트가 공공 데이터 활용 방식을 변화시키는 첫 번째 사례가 될 것으로 기대됩니다. (#Source: Page 19)\n",
      "\n",
      "3. **질의응답 작업**: 역사, 과학, 문화 등 다양한 주제에 걸친 대규모 데이터셋을 이용한 질의응답 작업이 이루어지고 있습니다. (#Source: Page 16)\n",
      "\n",
      "4. **교육 분야 기술 활용**: 콘텐츠 스토어는 교사의 과제 채점, 교육 자료 제작, 학교의 행정 업무 지원 등 교육 분야에 특화된 기술 기업을 대상으로 활용됩니다. (#Source: Page 19)\n"
     ]
    }
   ],
   "source": [
    "# 체인 실행\n",
    "\n",
    "question = \"주어진 자료의 내용을 주제별로 요약해서 알려줘.\"\n",
    "response = chain.invoke(question)\n",
    "\n",
    "print(response)"
   ]
  },
  {
   "cell_type": "code",
   "execution_count": 29,
   "metadata": {},
   "outputs": [
    {
     "name": "stdout",
     "output_type": "stream",
     "text": [
      "제공된 문서는 2024년 10월호의 \"SPRi AI Brief\"라는 제목의 산업 동향 보고서입니다. 이 보고서는 주로 인공지능 관련 정책, 기업 및 산업 동향, 기술 및 연구, 인력 및 교육에 관한 내용을 다루고 있습니다. 특히, 하이퍼라이트라는 회사가 오류를 자체 수정하는 '리플렉션 70B'라는 오픈소스 모델을 공개한 내용이 포함되어 있습니다. 이 모델은 추론 과정에서 발생한 오류를 스스로 감지하고 수정하여 정확도를 향상시키는 특징을 가지고 있으며, 여러 벤치마크에서 뛰어난 성능을 보였다고 합니다. 그러나 오픈소스 AI 커뮤니티와 연구자들은 이 모델의 실제 성능에 대해 의혹을 제기하고 있습니다.\n",
      "\n",
      "#Source: data/SPRi AI Brief_10월호_산업동향_F.pdf, page 13\n"
     ]
    }
   ],
   "source": [
    "# 체인 실행\n",
    "\n",
    "question = \"제공된 문서에 대해 자세하게 알려줘\"\n",
    "response = chain.invoke(question)\n",
    "\n",
    "print(response)"
   ]
  },
  {
   "cell_type": "code",
   "execution_count": 30,
   "metadata": {},
   "outputs": [
    {
     "name": "stdout",
     "output_type": "stream",
     "text": [
      "제공된 문서는 2024년 10월호의 \"SPRi AI Brief\"라는 제목의 산업 동향 보고서입니다. 이 보고서는 다양한 주제를 다루고 있으며, 주요 내용은 다음과 같습니다:\n",
      "\n",
      "1. **정책/법제**: AI 관련 정책 및 법제 동향을 다루고 있습니다.\n",
      "2. **기업/산업**: AI 산업 내 기업들의 동향과 관련된 내용을 포함하고 있습니다.\n",
      "3. **기술/연구**: AI 기술 발전과 연구 결과에 대한 내용을 다루고 있습니다. 예를 들어, 하이퍼라이트라는 회사가 오류를 자체 수정하는 '리플렉션 70B'라는 오픈소스 모델을 공개했다는 내용이 포함되어 있습니다. 이 모델은 추론 과정에서 발생한 오류를 스스로 감지하고 수정하여 정확도를 향상시키는 특징이 있습니다.\n",
      "4. **인력/교육**: AI와 관련된 인력 및 교육 동향을 다루고 있습니다.\n",
      "\n",
      "이 외에도 보고서에는 AI 칩 분포의 양극화 현상, LLM의 품질 평가, AI의 일자리 영향 등에 대한 다양한 연구 결과와 전망이 포함되어 있습니다.\n",
      "\n",
      "#Source: data/SPRi AI Brief_10월호_산업동향_F.pdf, 페이지 0, 1, 13\n"
     ]
    }
   ],
   "source": [
    "# 체인 실행\n",
    "\n",
    "question = \"제공된 문서에 대해 자세하게 알려줘\"\n",
    "response = chain.invoke(question)\n",
    "\n",
    "print(response)"
   ]
  },
  {
   "cell_type": "code",
   "execution_count": 31,
   "metadata": {},
   "outputs": [
    {
     "name": "stdout",
     "output_type": "stream",
     "text": [
      "미국 근로자들은 AI 기술 발전이 일자리에 미치는 영향에 대해 다양한 의견을 가지고 있습니다. 유고브의 조사에 따르면, 미국 근로자의 48%는 AI의 발전으로 인해 일자리가 줄어들 것으로 예상하고 있으며, 34%는 AI로 인한 실직이나 근무 시간, 급여 감소를 우려하고 있습니다. 반면, 63%의 근로자는 이러한 우려를 하지 않고 있으며, 실제로 AI로 인한 실직이나 근무 시간, 급여 감소 사례는 극소수에 불과합니다. 또한, AI 발전으로 일자리가 늘어날 것이라고 응답한 비율은 11%, 영향이 없을 것이라는 응답은 28%로 나타났습니다. \n",
      "\n",
      "한편, IBM 기업가치연구소는 생성 AI가 직원의 잠재력을 발견하고 업무 흐름을 혁신하여 기업의 새로운 미래를 개척할 수 있다고 보고 있으며, 이를 위해 미래 업무에 대한 비전 수립이 필요하다고 강조하고 있습니다. \n",
      "\n",
      "#Source: data/SPRi AI Brief_10월호_산업동향_F.pdf, 페이지 18, 21\n"
     ]
    }
   ],
   "source": [
    "# 체인 실행\n",
    "\n",
    "question = \"AI의 일자리 영향과 관련하여 자세하게 알려줘\"\n",
    "response = chain.invoke(question)\n",
    "\n",
    "print(response)"
   ]
  }
 ],
 "metadata": {
  "kernelspec": {
   "display_name": "langchain_env",
   "language": "python",
   "name": "python3"
  },
  "language_info": {
   "codemirror_mode": {
    "name": "ipython",
    "version": 3
   },
   "file_extension": ".py",
   "mimetype": "text/x-python",
   "name": "python",
   "nbconvert_exporter": "python",
   "pygments_lexer": "ipython3",
   "version": "3.11.10"
  }
 },
 "nbformat": 4,
 "nbformat_minor": 2
}
