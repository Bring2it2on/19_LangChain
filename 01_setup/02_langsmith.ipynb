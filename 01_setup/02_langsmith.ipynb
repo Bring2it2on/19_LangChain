{
 "cells": [
  {
   "attachments": {},
   "cell_type": "markdown",
   "metadata": {},
   "source": [
    "### LangSmith\n",
    "\n",
    "- LangChain 어플리케이션의 개발, 테스트, 모니터링 및 배포를 위한 플랫폼\n",
    "- LLM 기반 어플리케이션의 전체 생명주기를 관리하는데 도움을 받을 수 있다.\n",
    "\n",
    "1. 디버깅: 복잡한 LLM 체인과 에이전트의 실행을 추적하고 시각화\n",
    "2. 테스팅: 다양한 입력에 대한 모델의 성능을 평가하고 회귀를 방지\n",
    "3. 모니터링: 프로덕션 환경"
   ]
  },
  {
   "cell_type": "code",
   "execution_count": 1,
   "metadata": {},
   "outputs": [
    {
     "data": {
      "text/plain": [
       "True"
      ]
     },
     "execution_count": 1,
     "metadata": {},
     "output_type": "execute_result"
    }
   ],
   "source": [
    "from dotenv import load_dotenv\n",
    "\n",
    "load_dotenv(dotenv_path=\"../.env\")"
   ]
  },
  {
   "cell_type": "code",
   "execution_count": 2,
   "metadata": {},
   "outputs": [
    {
     "name": "stdout",
     "output_type": "stream",
     "text": [
      "[답변] : content='포켓몬 세계에서 \"가장 강력한\" 몬스터는 상황에 따라 다를 수 있지만, 일반적으로 레전드리 포켓몬이나 미신적인 포켓몬들이 강력하다고 여겨집니다. 예를 들어, 아르세우스(Arceus)는 \"포켓몬의 신\"으로 불리며, 모든 타입을 가질 수 있는 능력을 가지고 있어 매우 강력한 포켓몬으로 알려져 있습니다.\\n\\n또한, 미뇽(Mewtwo)이나 루기아(Lugia), 그리고 자시안(Zacian)과 자마젠타(Zamazenta) 같은 포켓몬들도 강력한 전투 능력을 가지고 있습니다. 각 포켓몬의 강력함은 타입, 능력치, 기술 조합 등에 따라 달라지므로, 특정 상황이나 전략에 따라 다르게 평가될 수 있습니다.' additional_kwargs={'refusal': None} response_metadata={'token_usage': {'completion_tokens': 187, 'prompt_tokens': 28, 'total_tokens': 215, 'completion_tokens_details': {'audio_tokens': None, 'reasoning_tokens': 0}, 'prompt_tokens_details': {'audio_tokens': None, 'cached_tokens': 0}}, 'model_name': 'gpt-4o-mini-2024-07-18', 'system_fingerprint': 'fp_f59a81427f', 'finish_reason': 'stop', 'logprobs': None} id='run-c5d05abf-37a9-49a7-ae85-caac362fa9fe-0' usage_metadata={'input_tokens': 28, 'output_tokens': 187, 'total_tokens': 215, 'input_token_details': {'cache_read': 0}, 'output_token_details': {'reasoning': 0}}\n"
     ]
    }
   ],
   "source": [
    "from langchain_openai import ChatOpenAI\n",
    "\n",
    "# 모델 객체 생성\n",
    "llm = ChatOpenAI(\n",
    "    temperature=0.1,\n",
    "    model_name=\"gpt-4o-mini\"\n",
    ")\n",
    "\n",
    "#  질문생성\n",
    "question = \"포켓몬스 중 가장 강력한 몬스터는 어떤 몬스터 인가요?\"\n",
    "\n",
    "print(f\"[답변] : {llm.invoke(question)}\")"
   ]
  }
 ],
 "metadata": {
  "kernelspec": {
   "display_name": "langchain_env",
   "language": "python",
   "name": "python3"
  },
  "language_info": {
   "codemirror_mode": {
    "name": "ipython",
    "version": 3
   },
   "file_extension": ".py",
   "mimetype": "text/x-python",
   "name": "python",
   "nbconvert_exporter": "python",
   "pygments_lexer": "ipython3",
   "version": "3.11.10"
  },
  "orig_nbformat": 4
 },
 "nbformat": 4,
 "nbformat_minor": 2
}
